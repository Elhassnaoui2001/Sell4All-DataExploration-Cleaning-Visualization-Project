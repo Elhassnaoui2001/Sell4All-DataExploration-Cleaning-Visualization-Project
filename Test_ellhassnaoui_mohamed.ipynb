{
 "cells": [
  {
   "cell_type": "code",
   "execution_count": 1,
   "metadata": {},
   "outputs": [],
   "source": [
    "import pandas as pd"
   ]
  },
  {
   "cell_type": "code",
   "execution_count": 2,
   "metadata": {},
   "outputs": [],
   "source": [
    "\n",
    "#  'data-sell4all.xlsx' \n",
    "file_path = 'data-sell4all.xlsx'\n",
    "\n",
    "# Read the Excel file\n",
    "df = pd.read_excel(file_path)\n",
    "\n",
    "# Convert the DataFrame to a CSV file\n",
    "csv_file_path = 'data-sell4all.csv'  \n",
    "df.to_csv(csv_file_path, index=False)"
   ]
  },
  {
   "attachments": {},
   "cell_type": "markdown",
   "metadata": {},
   "source": [
    "# Partie 1"
   ]
  },
  {
   "cell_type": "code",
   "execution_count": 3,
   "metadata": {},
   "outputs": [],
   "source": [
    "# Lire le fichier CSV\n",
    "df = pd.read_csv('data-sell4all.csv')\n"
   ]
  },
  {
   "cell_type": "code",
   "execution_count": 4,
   "metadata": {},
   "outputs": [
    {
     "name": "stdout",
     "output_type": "stream",
     "text": [
      "      Pays  Age    Genre Dépenses des clients\n",
      "0   France    32  Female               150.50\n",
      "1  Germany    45    Male               200.75\n",
      "2    Spain    28  Female                75.25\n",
      "3    Italy    39    Male               180.00\n",
      "4       UK    52  Female               250.30\n"
     ]
    }
   ],
   "source": [
    "# Afficher les 5 premières lignes du DataFrame\n",
    "print(df.head())"
   ]
  },
  {
   "cell_type": "code",
   "execution_count": 7,
   "metadata": {},
   "outputs": [
    {
     "name": "stdout",
     "output_type": "stream",
     "text": [
      "<class 'pandas.core.frame.DataFrame'>\n",
      "RangeIndex: 65 entries, 0 to 64\n",
      "Data columns (total 4 columns):\n",
      " #   Column                Non-Null Count  Dtype \n",
      "---  ------                --------------  ----- \n",
      " 0   Pays                  65 non-null     object\n",
      " 1    Age                  62 non-null     object\n",
      " 2   Genre                 64 non-null     object\n",
      " 3   Dépenses des clients  63 non-null     object\n",
      "dtypes: object(4)\n",
      "memory usage: 2.2+ KB\n",
      "None\n"
     ]
    }
   ],
   "source": [
    "# Afficher un résumé technique des données\n",
    "print(df.info())\n"
   ]
  },
  {
   "attachments": {},
   "cell_type": "markdown",
   "metadata": {},
   "source": [
    "## Expliquer les détails affichés :\n",
    "\n",
    "**Nombre de lignes :** Montre combien d'enregistrements (utilisateurs) sont présents. <br>\n",
    "**Colonnes :** Liste les noms des colonnes, qui correspondent aux attributs de chaque utilisateur.<br>\n",
    "**Types de données :** Indique le type de données de chaque colonne (ex. int64 pour des entiers, float64 pour des nombres décimaux, object pour des chaînes de caractères)."
   ]
  },
  {
   "cell_type": "code",
   "execution_count": 9,
   "metadata": {},
   "outputs": [
    {
     "name": "stdout",
     "output_type": "stream",
     "text": [
      "Index(['Pays', ' Age ', 'Genre', 'Dépenses des clients'], dtype='object')\n"
     ]
    }
   ],
   "source": [
    "print(df.columns)\n"
   ]
  },
  {
   "cell_type": "code",
   "execution_count": 11,
   "metadata": {},
   "outputs": [
    {
     "data": {
      "text/plain": [
       "0                32\n",
       "1                45\n",
       "2                28\n",
       "3                39\n",
       "4                52\n",
       "          ...      \n",
       "60              NaN\n",
       "61                ∞\n",
       "62              NaN\n",
       "63            25;30\n",
       "64    Not Available\n",
       "Name:  Age , Length: 65, dtype: object"
      ]
     },
     "execution_count": 11,
     "metadata": {},
     "output_type": "execute_result"
    }
   ],
   "source": [
    "df[' Age ']"
   ]
  },
  {
   "cell_type": "code",
   "execution_count": 16,
   "metadata": {},
   "outputs": [
    {
     "name": "stdout",
     "output_type": "stream",
     "text": [
      "Médiane de l'âge: 36.5\n",
      "Médiane des dépenses des clients: 167.5\n",
      "Moyenne de l'âge: 54.232142857142854\n",
      "Moyenne des dépenses des clients: 18014.616964285717\n"
     ]
    }
   ],
   "source": [
    "# Nettoyer la colonne \"Age\"\n",
    "df[' Age '] = pd.to_numeric(df[' Age '], errors='coerce')  # Convertir en numérique, les erreurs seront remplacées par NaN\n",
    "\n",
    "# Supprimer les lignes où l'âge est manquant ou invalide\n",
    "df = df.dropna(subset=[' Age '])\n",
    "\n",
    "# Nettoyer la colonne \"Dépenses des clients\"\n",
    "df['Dépenses des clients'] = pd.to_numeric(df['Dépenses des clients'], errors='coerce')\n",
    "\n",
    "# Supprimer les lignes où les dépenses des clients sont manquantes ou invalides\n",
    "df = df.dropna(subset=['Dépenses des clients'])\n",
    "\n",
    "\n",
    "# Recalculer la médiane et la moyenne après le nettoyage\n",
    "median_age = df[' Age '].median()\n",
    "median_spending = df['Dépenses des clients'].median()\n",
    "\n",
    "mean_age = df[' Age '].mean()\n",
    "mean_spending = df['Dépenses des clients'].mean()\n",
    "\n",
    "print(f'Médiane de l\\'âge: {median_age}')\n",
    "print(f'Médiane des dépenses des clients: {median_spending}')\n",
    "print(f'Moyenne de l\\'âge: {mean_age}')\n",
    "print(f'Moyenne des dépenses des clients: {mean_spending}')\n"
   ]
  },
  {
   "cell_type": "code",
   "execution_count": null,
   "metadata": {},
   "outputs": [],
   "source": []
  },
  {
   "attachments": {},
   "cell_type": "markdown",
   "metadata": {},
   "source": [
    "# Partie 2"
   ]
  },
  {
   "attachments": {},
   "cell_type": "markdown",
   "metadata": {},
   "source": [
    "## Créer une visualisation des données du graphique à barres qui montre les dépenses des clients par pays :"
   ]
  },
  {
   "cell_type": "code",
   "execution_count": 17,
   "metadata": {},
   "outputs": [
    {
     "data": {
      "image/png": "[encoded data removed]",
      "text/plain": [
       "<Figure size 1000x600 with 1 Axes>"
      ]
     },
     "metadata": {},
     "output_type": "display_data"
    }
   ],
   "source": [
    "import matplotlib.pyplot as plt\n",
    "\n",
    "# Calculer les dépenses totales par pays\n",
    "spending_by_country = df.groupby('Pays')['Dépenses des clients'].sum()\n",
    "\n",
    "# Créer un graphique à barres\n",
    "plt.figure(figsize=(10, 6))\n",
    "spending_by_country.plot(kind='bar')\n",
    "plt.title('Dépenses des clients par pays')\n",
    "plt.xlabel('Pays')\n",
    "plt.ylabel('Dépenses totales des clients (€)')\n",
    "plt.show()\n"
   ]
  },
  {
   "attachments": {},
   "cell_type": "markdown",
   "metadata": {},
   "source": [
    "## Nettoyer les lignes avec moins de 10 € de dépenses client :"
   ]
  },
  {
   "cell_type": "code",
   "execution_count": 18,
   "metadata": {},
   "outputs": [],
   "source": [
    "# Supprimer les lignes avec des dépenses client inférieures à 10 €\n",
    "df = df[df['Dépenses des clients'] >= 10]\n"
   ]
  },
  {
   "attachments": {},
   "cell_type": "markdown",
   "metadata": {},
   "source": [
    "##  Nettoyer les doublons :"
   ]
  },
  {
   "cell_type": "code",
   "execution_count": 19,
   "metadata": {},
   "outputs": [],
   "source": [
    "# Supprimer les doublons\n",
    "df = df.drop_duplicates()\n"
   ]
  },
  {
   "attachments": {},
   "cell_type": "markdown",
   "metadata": {},
   "source": [
    "## Écrire les données nettoyées dans un nouveau fichier CSV :"
   ]
  },
  {
   "cell_type": "code",
   "execution_count": 21,
   "metadata": {},
   "outputs": [],
   "source": [
    "# Écrire les données nettoyées dans un nouveau fichier CSV\n",
    "df[['Pays', ' Age ', 'Genre', 'Dépenses des clients']].to_csv('data-sell4all-cleaned.csv', index=False)\n"
   ]
  }
 ],
 "metadata": {
  "kernelspec": {
   "display_name": "Python 3 (ipykernel)",
   "language": "python",
   "name": "python3"
  },
  "language_info": {
   "codemirror_mode": {
    "name": "ipython",
    "version": 3
   },
   "file_extension": ".py",
   "mimetype": "text/x-python",
   "name": "python",
   "nbconvert_exporter": "python",
   "pygments_lexer": "ipython3",
   "version": "3.12.4"
  }
 },
 "nbformat": 4,
 "nbformat_minor": 4
}
